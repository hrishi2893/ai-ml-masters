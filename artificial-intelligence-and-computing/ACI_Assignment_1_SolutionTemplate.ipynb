{
  "cells": [
    {
      "cell_type": "markdown",
      "metadata": {
        "id": "MzZ4dJQYF7sH"
      },
      "source": [
        "# Artificial and Computational Intelligence Assignment 1"
      ]
    },
    {
      "cell_type": "markdown",
      "metadata": {
        "id": "Fxb1aE9zF7sK"
      },
      "source": [
        "## Problem solving by Uninformed & Informed Search"
      ]
    },
    {
      "cell_type": "markdown",
      "metadata": {
        "id": "h35jIBbCF7sK"
      },
      "source": [
        "List only the BITS (Name) of active contributors in this assignment:\n",
        "1. ___________________\n",
        "2. __________________\n",
        "3. ____________________\n",
        "4. ___________________\n",
        "5. ___________________"
      ]
    },
    {
      "cell_type": "markdown",
      "metadata": {
        "id": "pt5ygv_zF7sL"
      },
      "source": [
        "Things to follow\n",
        "1.\tUse appropriate data structures to represent the graph and the path using python libraries\n",
        "2.\tProvide proper documentation\n",
        "3.\tFind the path and print it"
      ]
    },
    {
      "cell_type": "markdown",
      "metadata": {
        "id": "wZfop5ElF7sL"
      },
      "source": [
        "Coding begins here"
      ]
    },
    {
      "cell_type": "markdown",
      "metadata": {
        "id": "IL0QDMy3F7sL"
      },
      "source": [
        "### 1.\tDefine the environment in the following block"
      ]
    },
    {
      "cell_type": "markdown",
      "metadata": {
        "id": "RYwJPNLIF7sM"
      },
      "source": [
        "List the PEAS decription of the problem here in this markdown block"
      ]
    },
    {
      "cell_type": "markdown",
      "metadata": {
        "id": "XJ3cHp1IF7sM"
      },
      "source": [
        "Design the agent as PSA Agent(Problem Solving Agent)\n",
        "Clear Initial data structures to define the graph and variable declarations is expected\n",
        "IMPORTATANT: Write distinct code block as below"
      ]
    },
    {
      "cell_type": "code",
      "execution_count": 13,
      "metadata": {
        "id": "osp61RsLF7sN"
      },
      "outputs": [],
      "source": [
        "#Code Block : Set Initial State (Must handle dynamic inputs)\n",
        "\n",
        "class Agent:\n",
        "    def __init__(self):\n",
        "        self.visited_blood_bank = set()  # Private attribute\n",
        "        self.shortest_path = None\n",
        "\n",
        "    @property\n",
        "    def visited_blood_bank(self):\n",
        "        return self.visited_blood_bank\n",
        "\n",
        "    @visited_blood_bank.setter\n",
        "    def visited_blood_bank(self, value):\n",
        "        self.visited_blood_bank.add(value)\n",
        "\n",
        "    @property\n",
        "    def shortest_path(self):\n",
        "        return self.shortest_path\n",
        "\n",
        "    @shortest_path.setter\n",
        "    def shortest_path(self, value):\n",
        "        self.shortest_path = value\n",
        "\n",
        "class AreaGraph:\n",
        "    def __init__(self):\n",
        "        self.graph = {} # Will be using adjacency list to store the graph\n",
        "    \n",
        "    # Add a blood bank or hospital to the graph \n",
        "    def add_blood_bank(self, bloodBank):\n",
        "        if bloodBank not in self.graph:\n",
        "            self.graph[bloodBank] = {}\n",
        "\n",
        "    # Define the edges betweend blood banks with their distance.\n",
        "    def add_edge(self, from_BloodBank, to_bloodBank, distance):\n",
        "        if(from_BloodBank not in self.graph):\n",
        "            self.add_blood_bank(from_BloodBank)\n",
        "        if(to_bloodBank not in self.graph):\n",
        "            self.add_blood_bank(to_bloodBank)\n",
        "        self.graph[from_BloodBank][to_bloodBank] = distance\n",
        "\n",
        "        # The graph in the problem statement is undirected\n",
        "        self.graph[to_bloodBank][from_BloodBank] = distance\n",
        "\n",
        "    def display_graph(self):\n",
        "        \"\"\"Display the graph.\"\"\"\n",
        "        for blood_bank, neighbors in self.graph.items():\n",
        "            for neighbor, distance in neighbors.items():\n",
        "                print(f\"Edge from {blood_bank} to {neighbor} with weight {distance}\")\n"
      ]
    },
    {
      "cell_type": "code",
      "execution_count": 2,
      "metadata": {
        "id": "XODwoWZ0F7sO"
      },
      "outputs": [],
      "source": [
        "#Code Block : Set the matrix for transition & cost (as relevant for the given problem)\n",
        "area_grpah = AreaGraph()\n",
        "\n",
        "# Adding nodes and edges dynamically\n",
        "area_grpah.add_blood_bank('Hospital')  # Hospital\n",
        "area_grpah.add_blood_bank('A')  # Blood Bank\n",
        "area_grpah.add_blood_bank('B')  # Blood Bank\n",
        "area_grpah.add_blood_bank('C')  # Blood Bank\n",
        "area_grpah.add_blood_bank('D')  # Blood Bank\n",
        "area_grpah.add_blood_bank('E')  # Blood Bank\n",
        "area_grpah.add_blood_bank('F')  # Blood Bank\n",
        "\n",
        "# Adding edges with weights (distances or costs)\n",
        "area_grpah.add_edge('A', 'B', 5)\n",
        "area_grpah.add_edge('A', 'C', 8)\n",
        "area_grpah.add_edge('B', 'D', 6)\n",
        "area_grpah.add_edge('B', 'C', 7)\n",
        "area_grpah.add_edge('B', 'E', 10)\n",
        "area_grpah.add_edge('C', 'F', 12)\n",
        "area_grpah.add_edge('F', 'E', 9)\n",
        "\n",
        "\n",
        "area_grpah.add_edge('B', 'Hospital', 8)\n",
        "area_grpah.add_edge('E', 'Hospital', 18)\n",
        "area_grpah.add_edge('D', 'Hospital', 10)"
      ]
    },
    {
      "cell_type": "code",
      "execution_count": 3,
      "metadata": {
        "id": "ro24Gaj7F7sO"
      },
      "outputs": [],
      "source": [
        "#Code Block : Write function to design the Transition Model/Successor function. Ideally this would be called while search algorithms are implemented\n",
        "def successors(area_graph, state):\n",
        "    return area_graph[state]"
      ]
    },
    {
      "cell_type": "code",
      "execution_count": 4,
      "metadata": {
        "id": "HIVPhrRWF7sO"
      },
      "outputs": [],
      "source": [
        "#Code block : Write fucntion to handle goal test (Must handle dynamic inputs). Ideally this would be called while search algorithms are implemented\n",
        "def is_goal(current_state):\n",
        "   if(current_state == 'Hospital'):\n",
        "      return True\n",
        "   else:\n",
        "      return False"
      ]
    },
    {
      "cell_type": "markdown",
      "metadata": {
        "id": "Z4QwDeX5F7sO"
      },
      "source": [
        "### 2.\tDefinition of Algorithm 1 (Breadth First Search)"
      ]
    },
    {
      "cell_type": "code",
      "execution_count": 5,
      "metadata": {
        "id": "zD_EPCHWF7sO"
      },
      "outputs": [],
      "source": [
        "#Code Block : Function for algorithm 1 implementation\n",
        "\n",
        "from collections import deque\n",
        "\n",
        "def bestRouteToHospitalUsingBFS(graph, start_blood_bank):\n",
        "    if 'Hospital' not in graph:\n",
        "        return ValueError(\"The graph must have a 'Hospital' node\")\n",
        "    \n",
        "    visited_blood_bank = set()\n",
        "    queue = deque([(start_blood_bank, [start_blood_bank])])\n",
        "    visited_blood_bank.add(start_blood_bank)\n",
        "    while queue:\n",
        "        current_blood_bank, path = queue.popleft()\n",
        "        if(is_goal(current_blood_bank)):\n",
        "            return path\n",
        "        \n",
        "        for neighbour_blood_banks in successors(graph, current_blood_bank):\n",
        "            if neighbour_blood_banks not in visited_blood_bank:\n",
        "                visited_blood_bank.add(neighbour_blood_banks)\n",
        "                queue.append((neighbour_blood_banks, path + [neighbour_blood_banks]))\n",
        "    return None"
      ]
    },
    {
      "cell_type": "markdown",
      "metadata": {
        "id": "KnbdDl6HF7sO"
      },
      "source": [
        "### 3.\tDefinition of Algorithm 2 (Mention the Name of the algorithm here)"
      ]
    },
    {
      "cell_type": "code",
      "execution_count": 6,
      "metadata": {
        "id": "3HYh7-eJF7sP"
      },
      "outputs": [],
      "source": [
        "#Code Block : Function for algorithm 2 implementation"
      ]
    },
    {
      "cell_type": "markdown",
      "metadata": {
        "id": "LEV2XHccF7sP"
      },
      "source": [
        "### DYNAMIC INPUT"
      ]
    },
    {
      "cell_type": "markdown",
      "metadata": {
        "id": "CylYRo_DF7sP"
      },
      "source": [
        "IMPORTANT : Dynamic Input must be got in this section. Display the possible states to choose from:\n",
        "This is applicable for all the relevent problems as mentioned in the question."
      ]
    },
    {
      "cell_type": "code",
      "execution_count": 7,
      "metadata": {
        "id": "Q5t1Lc-wF7sP"
      },
      "outputs": [
        {
          "name": "stdout",
          "output_type": "stream",
          "text": [
            "path ['A', 'B', 'Hospital']\n",
            "path ['C', 'B', 'Hospital']\n",
            "path ['D', 'Hospital']\n"
          ]
        }
      ],
      "source": [
        "#Code Block : Function & call to get inputs (start/end state)\n",
        "path1 = bestRouteToHospitalUsingBFS(area_grpah.graph, 'A')\n",
        "path2 = bestRouteToHospitalUsingBFS(area_grpah.graph, 'C')\n",
        "path3 = bestRouteToHospitalUsingBFS(area_grpah.graph, 'D')\n",
        "\n",
        "print('path',path1)\n",
        "print('path',path2)\n",
        "print('path',path3)"
      ]
    },
    {
      "cell_type": "markdown",
      "metadata": {
        "id": "xsfOP81lF7sP"
      },
      "source": [
        "### 4.\tCalling the search algorithms\n",
        "(For bidirectional search in below sections first part can be used as per Hint provided. Under second section other combinations as per Hint or your choice of 2 algorithms can be called .As an analyst suggest suitable approximation in the comparitive analysis section)"
      ]
    },
    {
      "cell_type": "code",
      "execution_count": 8,
      "metadata": {
        "id": "Og5zI9thF7sP"
      },
      "outputs": [],
      "source": [
        "#Invoke algorithm 1 (Should Print the solution, path, cost etc., (As mentioned in the problem))"
      ]
    },
    {
      "cell_type": "code",
      "execution_count": 9,
      "metadata": {
        "id": "u3MJeA6eF7sP"
      },
      "outputs": [],
      "source": [
        "#Invoke algorithm 2 (Should Print the solution, path, cost etc., (As mentioned in the problem))"
      ]
    },
    {
      "cell_type": "markdown",
      "metadata": {
        "id": "TOU3Rem6F7sQ"
      },
      "source": [
        "### 5.\tComparitive Analysis"
      ]
    },
    {
      "cell_type": "code",
      "execution_count": 10,
      "metadata": {
        "id": "HG6fWwiIF7sQ"
      },
      "outputs": [],
      "source": [
        "#Code Block : Print the Time & Space complexity of algorithm 1"
      ]
    },
    {
      "cell_type": "code",
      "execution_count": 11,
      "metadata": {
        "id": "xMButLKCF7sQ"
      },
      "outputs": [],
      "source": [
        "#Code Block : Print the Time & Space complexity of algorithm 2"
      ]
    },
    {
      "cell_type": "markdown",
      "metadata": {
        "id": "y2nXwAlsF7sQ"
      },
      "source": [
        "### 6.\tProvide your comparitive analysis or findings in no more than 3 lines in below section"
      ]
    },
    {
      "cell_type": "markdown",
      "metadata": {
        "id": "si483-zoF7sQ"
      },
      "source": [
        "Comparison : _______________________________________________\n",
        "\n",
        "________________________________________________________\n",
        "\n",
        "_________________________________________________________"
      ]
    }
  ],
  "metadata": {
    "colab": {
      "provenance": []
    },
    "kernelspec": {
      "display_name": "Python 3",
      "language": "python",
      "name": "python3"
    },
    "language_info": {
      "codemirror_mode": {
        "name": "ipython",
        "version": 3
      },
      "file_extension": ".py",
      "mimetype": "text/x-python",
      "name": "python",
      "nbconvert_exporter": "python",
      "pygments_lexer": "ipython3",
      "version": "3.10.14"
    }
  },
  "nbformat": 4,
  "nbformat_minor": 0
}
