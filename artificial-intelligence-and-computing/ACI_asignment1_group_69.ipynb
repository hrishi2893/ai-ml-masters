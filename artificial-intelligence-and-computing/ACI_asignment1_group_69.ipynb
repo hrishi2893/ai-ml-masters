{
 "cells": [
  {
   "cell_type": "markdown",
   "metadata": {
    "id": "MzZ4dJQYF7sH"
   },
   "source": [
    "# Artificial and Computational Intelligence Assignment 1"
   ]
  },
  {
   "cell_type": "markdown",
   "metadata": {
    "id": "Fxb1aE9zF7sK"
   },
   "source": [
    "## Problem solving by Uninformed & Informed Search\n",
    "\n"
   ]
  },
  {
   "cell_type": "markdown",
   "metadata": {
    "id": "h35jIBbCF7sK"
   },
   "source": [
    "# List only the BITS (Name) of active contributors in this assignment:\n",
    "1. HRISHIKESH MALAKAR 2023AC05058 Contribution 100%\n",
    "2. SUPRATIM MITRA 2023AC05777 Contribution 100%\n",
    "3. SOMDATTA CHAKRAVARTY 2023AC05746 Contribution 100%\n",
    "4. SARATH S 2023AC05774 Contribution 100%"
   ]
  },
  {
   "cell_type": "markdown",
   "metadata": {
    "id": "pt5ygv_zF7sL"
   },
   "source": []
  },
  {
   "cell_type": "markdown",
   "metadata": {
    "id": "wZfop5ElF7sL"
   },
   "source": [
    "Coding begins here"
   ]
  },
  {
   "cell_type": "markdown",
   "metadata": {
    "id": "IL0QDMy3F7sL"
   },
   "source": [
    "### 1.\tDefine the environment in the following block"
   ]
  },
  {
   "cell_type": "markdown",
   "metadata": {
    "id": "RYwJPNLIF7sM"
   },
   "source": [
    "List the PEAS decription of the problem here in this markdown block"
   ]
  },
  {
   "cell_type": "markdown",
   "metadata": {
    "id": "XJ3cHp1IF7sM"
   },
   "source": [
    "Performance Measure:\n",
    "\n",
    "Minimize the total travel distance while visiting all blood bank only once.\n",
    "Minimize the time taken to compute the optimal path and the number of nodes explored during the search process.\n",
    "\n",
    "Environment:\n",
    "\n",
    "Blood Banks\n",
    "Hospital \n",
    "Edges represent the paths between them with associated travel cost.\n",
    "\n",
    "Actuators:\n",
    "\n",
    "Movement of agent from one node to another along the edges.\n",
    "The movement is deterministic and follows the path with the least cost(distance).\n",
    "\n",
    "Sensors:\n",
    "\n",
    "Detection of current location within the graph.\n",
    "Detection of immediate neighbouring nodes.\n",
    "The cost associated with moving to each.\n",
    "Availability of blood at other banks.\n"
   ]
  },
  {
   "cell_type": "code",
   "execution_count": 10,
   "metadata": {
    "id": "osp61RsLF7sN"
   },
   "outputs": [],
   "source": [
    "\n",
    "\n",
    " # Code Block 1: Set Initial State (Must handle dynamic inputs)\n",
    "\n",
    "class Graph:\n",
    "    def __init__(self):\n",
    "        self.adjacency_list = {}  # Stores the graph structure as an adjacency list\n",
    "\n",
    "    def add_node(self, node):\n",
    "        if node not in self.adjacency_list:\n",
    "            self.adjacency_list[node] = {}\n",
    "\n",
    "    def add_edges(self):\n",
    "\n",
    "        # Add edges and their respective costs to the existing nodes in the adjacency list.\n",
    "        while True:\n",
    "            node = input(\"Enter a node (or press enter to finish adding nodes): \").strip().upper()\n",
    "            if node == '':\n",
    "                break\n",
    "            self.add_node(node)\n",
    "\n",
    "        # Then, add edges between nodes\n",
    "        for node in self.adjacency_list:\n",
    "            print(f\"Adding edges for node {node}:\")\n",
    "            while True:\n",
    "                neighbor = input(f\"Enter neighboring node for {node} (or press enter to finish): \").strip().upper()\n",
    "                if neighbor == '':\n",
    "                    break\n",
    "                if neighbor in self.adjacency_list:\n",
    "                    cost = int(input(f\"Enter the cost to move from {node} to {neighbor}: \"))\n",
    "                    self.adjacency_list[node][neighbor] = cost\n",
    "                else:\n",
    "                    print(f\"Neighbor node '{neighbor}' does not exist in the graph. Please add it first.\")\n",
    "\n",
    "    def show_graph(self):\n",
    "        if not self.adjacency_list:\n",
    "            print(\"The graph is empty.\")\n",
    "        else:\n",
    "            print(\"Adjacency List (Transition Matrix):\")\n",
    "            for node, edges in self.adjacency_list.items():\n",
    "                print(f\"{node}: {edges}\")\n",
    "\n",
    "# create the graph initial state with 0 nodes.\n",
    "graph = Graph()\n",
    "\n"
   ]
  },
  {
   "cell_type": "code",
   "execution_count": 11,
   "metadata": {
    "id": "XODwoWZ0F7sO"
   },
   "outputs": [
    {
     "name": "stdout",
     "output_type": "stream",
     "text": [
      "Adding edges for node A:\n",
      "Adding edges for node B:\n",
      "Adding edges for node C:\n",
      "Adding edges for node D:\n",
      "Adding edges for node E:\n",
      "Adding edges for node F:\n",
      "Adding edges for node H:\n",
      "Adjacency List (Transition Matrix):\n",
      "A: {'B': 5, 'C': 8}\n",
      "B: {'C': 7, 'A': 5, 'D': 6, 'H': 8, 'E': 10}\n",
      "C: {'A': 8, 'F': 12}\n",
      "D: {'B': 6, 'H': 10}\n",
      "E: {'F': 9, 'B': 10, 'H': 18}\n",
      "F: {'C': 12, 'E': 9}\n",
      "H: {'D': 10, 'E': 18, 'B': 8}\n"
     ]
    }
   ],
   "source": [
    "#Code Block : Set the matrix for transition & cost (as relevant for the given problem)\n",
    "\n",
    "# Set the initial state by adding nodes, edges and weights for the edges dynamically \n",
    "graph.add_edges()\n",
    "\n",
    "\n",
    "# Display the adjacency list structure, which represents the transition matrix.\n",
    "graph.show_graph()\n",
    "\n"
   ]
  },
  {
   "cell_type": "code",
   "execution_count": 12,
   "metadata": {
    "id": "ro24Gaj7F7sO"
   },
   "outputs": [],
   "source": [
    "#Code Block : Write function to design the Transition Model/Successor function. Ideally this would be called while search algorithms are implemented\n",
    "\n",
    "\n",
    "def get_successors(node):\n",
    "    # Access the graph's adjacency list to get the successors\n",
    "    if node in graph.adjacency_list:\n",
    "        return graph.adjacency_list[node]\n",
    "    else:\n",
    "        return []  # Return an empty list if the node is not found"
   ]
  },
  {
   "cell_type": "code",
   "execution_count": 13,
   "metadata": {
    "id": "HIVPhrRWF7sO"
   },
   "outputs": [],
   "source": [
    "# Code Block 4: Write Function to Handle Goal Test\n",
    "\n",
    "# Check is node is goal node.\n",
    "def is_goal(node, goal_node):\n",
    "    return node == goal_node\n"
   ]
  },
  {
   "cell_type": "markdown",
   "metadata": {
    "id": "Z4QwDeX5F7sO"
   },
   "source": [
    "### 2.\tDefinition of Algorithm 1 ( Breadth-First Search )"
   ]
  },
  {
   "cell_type": "code",
   "execution_count": 14,
   "metadata": {
    "id": "zD_EPCHWF7sO"
   },
   "outputs": [],
   "source": [
    "\n",
    "# Code Block 5: BFS Implementation\n",
    "from collections import deque\n",
    "\n",
    "def bfs(start_node, goal_node):\n",
    "    queue = deque([(start_node, [start_node], 0)])  # (current_node, path_to_current_node, current_cost)\n",
    "    visited = set()\n",
    "    total_cost = 0\n",
    "    while queue:\n",
    "        current_node, path, current_cost = queue.popleft()\n",
    "        \n",
    "        # Debug output to track progress\n",
    "        print(f\"Current node: {current_node}, Current path: {path}, Current cost {current_cost}\")\n",
    "        total_cost =+ current_cost\n",
    "        if is_goal(current_node, goal_node):\n",
    "            return path, total_cost\n",
    "        neighbors = get_successors(current_node)\n",
    "        for neighbor in get_successors(current_node):\n",
    "            edgeCost = neighbors[neighbor]\n",
    "            if neighbor not in visited: \n",
    "                queue.append((neighbor, path + [neighbor], current_cost + edgeCost))\n",
    "                visited.add(neighbor)\n",
    "\n",
    "    return [], 0\n"
   ]
  },
  {
   "cell_type": "markdown",
   "metadata": {
    "id": "KnbdDl6HF7sO"
   },
   "source": [
    "### 3.\tDefinition of Algorithm 2 (Iterative Deepening A*)"
   ]
  },
  {
   "cell_type": "code",
   "execution_count": 15,
   "metadata": {
    "id": "3HYh7-eJF7sP"
   },
   "outputs": [],
   "source": [
    "#Code Block : Function for algorithm 2 implementation\n",
    "def ida_star(graph, start_node, goal_node, heuristic):\n",
    "    allNodes = graph.adjacency_list.keys()\n",
    "    visited = set()\n",
    "    nonVisited = allNodes - visited #Need for heuristic calculation.\n",
    "    def search(path, g, threshold, nonVisited):\n",
    "        node = path[-1]\n",
    "        f = g + heuristic(graph.adjacency_list, node, nonVisited)\n",
    "        if f > threshold:\n",
    "            return f\n",
    "        if is_goal(node, goal_node):\n",
    "            return path, g\n",
    "        minimum = float('inf')\n",
    "        visited.add(node)\n",
    "        neighbors = get_successors(node)\n",
    "        for neighbor in get_successors(node):\n",
    "            print(neighbor)\n",
    "            if neighbor not in path:\n",
    "                path.append(neighbor)\n",
    "                temp_result = search(path, g + neighbors[neighbor], threshold, nonVisited)\n",
    "                if isinstance(temp_result, tuple):\n",
    "                    return temp_result\n",
    "                if temp_result < minimum:\n",
    "                    minimum = temp_result\n",
    "                path.pop()\n",
    "        return minimum\n",
    "    \n",
    "\n",
    "    threshold = heuristic(graph.adjacency_list, start_node, set(allNodes))\n",
    "    path = [start_node]\n",
    "\n",
    "    while True:\n",
    "        temp_result = search(path, 0, threshold, nonVisited)\n",
    "        if isinstance(temp_result, tuple):\n",
    "            return temp_result\n",
    "        if temp_result == float('inf'):\n",
    "            return [], -1 \n",
    "        threshold = temp_result\n",
    "\n",
    "# Heuristic : Average of distance from current node to all unvisited node. Considering the direct univisted node from current node.\n",
    "def heuristic(graph, current_node, unvisited_nodes):\n",
    "    if not unvisited_nodes:\n",
    "        return 0\n",
    "    distances = [graph[current_node][node] for node in unvisited_nodes if node in graph[current_node]]\n",
    "    print('dist',distances)\n",
    "    return sum(distances) / len(distances)\n"
   ]
  },
  {
   "cell_type": "markdown",
   "metadata": {
    "id": "LEV2XHccF7sP"
   },
   "source": [
    "### DYNAMIC INPUT"
   ]
  },
  {
   "cell_type": "markdown",
   "metadata": {
    "id": "CylYRo_DF7sP"
   },
   "source": [
    "IMPORTANT : Dynamic Input must be got in this section. Display the possible states to choose from:\n",
    "This is applicable for all the relevent problems as mentioned in the question."
   ]
  },
  {
   "cell_type": "code",
   "execution_count": 16,
   "metadata": {
    "id": "Q5t1Lc-wF7sP"
   },
   "outputs": [],
   "source": [
    "#Code Block : Function & call to get inputs (start/end state)\n",
    "\n",
    "def get_start_and_goal_nodes(graph):\n",
    "    if not graph.adjacency_list:\n",
    "        print(\"The graph is empty. Please add nodes and edges first.\")\n",
    "        return None, None\n",
    "    \n",
    "    # Get dynamic input for start and goal nodes\n",
    "    start_node = input(\"Enter the start node: \").strip().upper()\n",
    "    while start_node not in graph.adjacency_list:\n",
    "        print(\"Invalid node. Please choose from the available states.\")\n",
    "        start_node = input(\"Enter the start node: \").strip().upper()\n",
    "\n",
    "    goal_node = input(\"Enter the goal node: \").strip().upper()\n",
    "    while goal_node not in graph.adjacency_list:\n",
    "        print(\"Invalid node. Please choose from the available states.\")\n",
    "        goal_node = input(\"Enter the goal node: \").strip().upper()\n",
    "\n",
    "    return start_node, goal_node\n",
    "\n",
    "start_node, goal_node = get_start_and_goal_nodes(graph)\n",
    "\n"
   ]
  },
  {
   "cell_type": "markdown",
   "metadata": {
    "id": "xsfOP81lF7sP"
   },
   "source": [
    "### 4.\tCalling the search algorithms\n",
    "(For bidirectional search in below sections first part can be used as per Hint provided. Under second section other combinations as per Hint or your choice of 2 algorithms can be called .As an analyst suggest suitable approximation in the comparitive analysis section)"
   ]
  },
  {
   "cell_type": "code",
   "execution_count": 17,
   "metadata": {
    "id": "Og5zI9thF7sP"
   },
   "outputs": [
    {
     "name": "stdout",
     "output_type": "stream",
     "text": [
      "Current node: A, Current path: ['A'], Current cost 0\n",
      "Current node: B, Current path: ['A', 'B'], Current cost 5\n",
      "Current node: C, Current path: ['A', 'C'], Current cost 8\n",
      "Current node: A, Current path: ['A', 'B', 'A'], Current cost 10\n",
      "Current node: D, Current path: ['A', 'B', 'D'], Current cost 11\n",
      "Current node: H, Current path: ['A', 'B', 'H'], Current cost 13\n",
      "Path found by BFS: ['A', 'B', 'H'] and the cost is 13\n"
     ]
    }
   ],
   "source": [
    "#Invoke algorithm 1 (Should Print the solution, path, cost etc., (As mentioned in the problem))\n",
    "\n",
    "path, cost = bfs(start_node, goal_node)\n",
    "\n",
    "if path:\n",
    "    print(f\"Path found by BFS: {path} and the cost is {cost}\")\n",
    "else:\n",
    "    print(\"No path found from the start node to the goal node.\")"
   ]
  },
  {
   "cell_type": "code",
   "execution_count": 18,
   "metadata": {
    "id": "u3MJeA6eF7sP"
   },
   "outputs": [
    {
     "name": "stdout",
     "output_type": "stream",
     "text": [
      "dist [5, 8]\n",
      "dist [5, 8]\n",
      "B\n",
      "dist [6, 8, 7, 5, 10]\n",
      "C\n",
      "dist [12, 8]\n",
      "dist [5, 8]\n",
      "B\n",
      "dist [6, 8, 7, 5, 10]\n",
      "C\n",
      "dist [12, 8]\n",
      "A\n",
      "D\n",
      "dist [6, 10]\n",
      "H\n",
      "dist [8, 10, 18]\n",
      "E\n",
      "dist [10, 9, 18]\n",
      "C\n",
      "dist [12, 8]\n",
      "dist [5, 8]\n",
      "B\n",
      "dist [6, 8, 7, 5, 10]\n",
      "C\n",
      "dist [12, 8]\n",
      "A\n",
      "D\n",
      "dist [6, 10]\n",
      "H\n",
      "dist [8, 10, 18]\n",
      "E\n",
      "dist [10, 9, 18]\n",
      "C\n",
      "dist [12, 8]\n",
      "A\n",
      "F\n",
      "dist [12, 9]\n",
      "dist [5, 8]\n",
      "B\n",
      "dist [6, 8, 7, 5, 10]\n",
      "C\n",
      "dist [12, 8]\n",
      "A\n",
      "D\n",
      "dist [6, 10]\n",
      "B\n",
      "H\n",
      "dist [8, 10, 18]\n",
      "H\n",
      "dist [8, 10, 18]\n",
      "E\n",
      "dist [10, 9, 18]\n",
      "C\n",
      "dist [12, 8]\n",
      "A\n",
      "F\n",
      "dist [12, 9]\n",
      "dist [5, 8]\n",
      "B\n",
      "dist [6, 8, 7, 5, 10]\n",
      "C\n",
      "dist [12, 8]\n",
      "A\n",
      "F\n",
      "dist [12, 9]\n",
      "A\n",
      "D\n",
      "dist [6, 10]\n",
      "B\n",
      "H\n",
      "dist [8, 10, 18]\n",
      "H\n",
      "dist [8, 10, 18]\n",
      "E\n",
      "dist [10, 9, 18]\n",
      "C\n",
      "dist [12, 8]\n",
      "A\n",
      "F\n",
      "dist [12, 9]\n",
      "dist [5, 8]\n",
      "B\n",
      "dist [6, 8, 7, 5, 10]\n",
      "C\n",
      "dist [12, 8]\n",
      "A\n",
      "F\n",
      "dist [12, 9]\n",
      "A\n",
      "D\n",
      "dist [6, 10]\n",
      "B\n",
      "H\n",
      "dist [8, 10, 18]\n",
      "H\n",
      "dist [8, 10, 18]\n",
      "Path found by IDA*: ['A', 'B', 'H']\n",
      "Total cost by IDA*: 13\n"
     ]
    }
   ],
   "source": [
    "#Invoke algorithm 2 (Should Print the solution, path, cost etc., (As mentioned in the problem))\n",
    "\n",
    "# Calling IDA*\n",
    "path_ida, cost_ida = ida_star(graph, start_node, goal_node, heuristic)\n",
    "if path_ida:\n",
    "    print(f\"Path found by IDA*: {path_ida}\")\n",
    "    print(f\"Total cost by IDA*: {cost_ida}\")\n",
    "else:\n",
    "    print(\"No path found by IDA*.\")\n",
    "\n"
   ]
  },
  {
   "cell_type": "markdown",
   "metadata": {
    "id": "TOU3Rem6F7sQ"
   },
   "source": [
    "### 5.\tComparitive Analysis"
   ]
  },
  {
   "cell_type": "code",
   "execution_count": 19,
   "metadata": {
    "id": "HG6fWwiIF7sQ"
   },
   "outputs": [
    {
     "name": "stdout",
     "output_type": "stream",
     "text": [
      "Iterative Deepening A* Complexity Analysis:\n",
      "Branching Factor (b): 3\n",
      "Depth of the solution (d): 5\n",
      "Time Complexity: O(b^d) = O(3^5)\n",
      "Space Complexity: O(b * d) = O(3 * 5)\n"
     ]
    }
   ],
   "source": [
    "#Code Block : Print the Time & Space complexity of Iterative A*\n",
    "\n",
    "\n",
    "def print_ida_star_complexity(branching_factor, depth):\n",
    "    # Time Complexity\n",
    "    time_complexity = f\"O(b^d) = O({branching_factor}^{depth})\"\n",
    "    \n",
    "    # Space Complexity\n",
    "    space_complexity = f\"O(b * d) = O({branching_factor} * {depth})\"\n",
    "    \n",
    "    # Output the results\n",
    "    print(\"Iterative Deepening A* Complexity Analysis:\")\n",
    "    print(f\"Branching Factor (b): {branching_factor}\")\n",
    "    print(f\"Depth of the solution (d): {depth}\")\n",
    "    print(f\"Time Complexity: {time_complexity}\")\n",
    "    print(f\"Space Complexity: {space_complexity}\")\n",
    "\n",
    "# Assume we have an estimation of the branching factor and depth\n",
    "estimated_branching_factor = 3\n",
    "estimated_depth = 5\n",
    "\n",
    "print_ida_star_complexity(estimated_branching_factor, estimated_depth)\n",
    "\n",
    "\n"
   ]
  },
  {
   "cell_type": "code",
   "execution_count": 20,
   "metadata": {
    "id": "xMButLKCF7sQ"
   },
   "outputs": [
    {
     "name": "stdout",
     "output_type": "stream",
     "text": [
      "Breadth-First Search (BFS) Complexity Analysis:\n",
      "Number of vertices (V): 7\n",
      "Number of edges (E): 19\n",
      "Time Complexity: O(V + E) = O(7 + 19)\n",
      "Space Complexity: O(V) = O(7)\n"
     ]
    }
   ],
   "source": [
    "#Code Block : Print the Time & Space complexity of BFS\n",
    "\n",
    "def print_bfs_complexity(graph):\n",
    "    num_nodes = len(graph.adjacency_list)  # Number of vertices (V)\n",
    "    num_edges = sum(len(edges) for edges in graph.adjacency_list.values())  # Number of edges (E)\n",
    "\n",
    "    time_complexity = f\"O(V + E) = O({num_nodes} + {num_edges})\"\n",
    "    space_complexity = f\"O(V) = O({num_nodes})\"\n",
    "\n",
    "    print(\"Breadth-First Search (BFS) Complexity Analysis:\")\n",
    "    print(f\"Number of vertices (V): {num_nodes}\")\n",
    "    print(f\"Number of edges (E): {num_edges}\")\n",
    "    print(f\"Time Complexity: {time_complexity}\")\n",
    "    print(f\"Space Complexity: {space_complexity}\")\n",
    "\n",
    "print_bfs_complexity(graph)\n"
   ]
  },
  {
   "cell_type": "markdown",
   "metadata": {
    "id": "y2nXwAlsF7sQ"
   },
   "source": [
    "### 6.\tProvide your comparitive analysis or findings in no more than 3 lines in below section"
   ]
  },
  {
   "cell_type": "markdown",
   "metadata": {
    "id": "si483-zoF7sQ"
   },
   "source": [
    "Comparison : _______________________________________________\n",
    "\n",
    "BFS is  more efficient in terms of time complexity for finding the shortest path in unweighted graphs with O(V + E) time complexity, but it has higher space requirements (O(V + E)).\n",
    "\n",
    "IDA* is more space-efficient (O(b * d)) and better suited for memory-constrained environments, but it can be time-intensive (O(b^d)), particularly for deeper or more complex graphs\n",
    "\n",
    "_________________________________________________________"
   ]
  }
 ],
 "metadata": {
  "colab": {
   "provenance": []
  },
  "kernelspec": {
   "display_name": "Python 3 (ipykernel)",
   "language": "python",
   "name": "python3"
  },
  "language_info": {
   "codemirror_mode": {
    "name": "ipython",
    "version": 3
   },
   "file_extension": ".py",
   "mimetype": "text/x-python",
   "name": "python",
   "nbconvert_exporter": "python",
   "pygments_lexer": "ipython3",
   "version": "3.10.14"
  }
 },
 "nbformat": 4,
 "nbformat_minor": 1
}
